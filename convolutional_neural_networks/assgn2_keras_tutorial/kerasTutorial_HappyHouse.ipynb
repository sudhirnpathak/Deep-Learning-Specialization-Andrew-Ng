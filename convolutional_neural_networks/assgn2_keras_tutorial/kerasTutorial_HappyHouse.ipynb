{
 "cells": [
  {
   "cell_type": "markdown",
   "metadata": {},
   "source": [
    "# Keras Tutorial - The Happy House\n",
    "\n",
    "In this notebook, we will learn to use Keras, a high-level neural networks API (programming framework), written in Python and capable of running on top of several lower-level frameworks including TensorFlow and CNTK. \n",
    "\n",
    "To learn Keras, we will be working on the \"Happy House\" problem. Suppose a group of friends are staying in a house, where everyone has made a commitment to be happy when they are in the house. So anyone wanting to enter the house must prove their current state of happiness. As a deep learning expert, to make sure the \"Happy\" rule is strictly applied, we are going to build an algorithm that uses pictures from the front door camera to check if the person is happy or not. The door should open only if the person is happy. We have already gathered pictures of friends, taken by the front-door camera. The dataset is labeled."
   ]
  },
  {
   "cell_type": "markdown",
   "metadata": {},
   "source": [
    "## Import datasets\n",
    "\n",
    "As usual, let's start by importing necessary packages"
   ]
  },
  {
   "cell_type": "code",
   "execution_count": 1,
   "metadata": {},
   "outputs": [
    {
     "name": "stderr",
     "output_type": "stream",
     "text": [
      "Using TensorFlow backend.\n"
     ]
    }
   ],
   "source": [
    "import numpy as np\n",
    "from keras import layers\n",
    "from keras.layers import Input, Dense, Activation, ZeroPadding2D, BatchNormalization, Flatten, Conv2D\n",
    "from keras.layers import AveragePooling2D, MaxPooling2D, Dropout, GlobalMaxPooling2D, GlobalAveragePooling2D\n",
    "from keras.models import Model\n",
    "from keras.preprocessing import image\n",
    "from keras.utils import layer_utils\n",
    "from keras.utils.data_utils import get_file\n",
    "from keras.applications.imagenet_utils import preprocess_input\n",
    "import pydot\n",
    "from IPython.display import SVG\n",
    "from keras.utils.vis_utils import model_to_dot\n",
    "from keras.utils import plot_model\n",
    "from kt_utils import *\n",
    "\n",
    "import keras.backend as K\n",
    "K.set_image_data_format('channels_last')\n",
    "import matplotlib.pyplot as plt\n",
    "from matplotlib.pyplot import imshow\n",
    "\n",
    "%matplotlib inline"
   ]
  },
  {
   "cell_type": "code",
   "execution_count": 2,
   "metadata": {},
   "outputs": [
    {
     "name": "stdout",
     "output_type": "stream",
     "text": [
      "number of training examples = 600\n",
      "number of test examples = 150\n",
      "X_train shape: (600, 64, 64, 3)\n",
      "Y_train shape: (600, 1)\n",
      "X_test shape: (150, 64, 64, 3)\n",
      "Y_test shape: (150, 1)\n"
     ]
    }
   ],
   "source": [
    "X_train_orig, Y_train_orig, X_test_orig, Y_test_orig, classes = load_dataset()\n",
    "\n",
    "X_train = X_train_orig/255.\n",
    "X_test = X_test_orig/255.\n",
    "\n",
    "Y_train = Y_train_orig.T\n",
    "Y_test = Y_test_orig.T\n",
    "\n",
    "print (\"number of training examples = \" + str(X_train.shape[0]))\n",
    "print (\"number of test examples = \" + str(X_test.shape[0]))\n",
    "print (\"X_train shape: \" + str(X_train.shape))\n",
    "print (\"Y_train shape: \" + str(Y_train.shape))\n",
    "print (\"X_test shape: \" + str(X_test.shape))\n",
    "print (\"Y_test shape: \" + str(Y_test.shape))"
   ]
  },
  {
   "cell_type": "markdown",
   "metadata": {},
   "source": [
    "## Building a model in Keras\n",
    "\n",
    "Keras is very good for rapid prototyping. In just a short time we will be able to build a model that achieves outstanding results.\n",
    "\n",
    "Keras uses a different convention with variable names than we've previously used with TensorFlow. In particular, rather than creating and assigning a new variable on each step of forward propagation such as `X`, `Z1`, `A1`, `Z2`, `A2`, etc. for the computations for the different layers, in Keras code each line above just reassigns `X` to a new value using `X = ...`. In other words, during each step of forward propagation, we are just writing the latest value in the computation into the same variable `X`. The only exception is `X_input`, which we keep separate and do not overwrite, since we need it at the end to create the Keras model instance (`model = Model(inputs = X_input, ...)` above). \n",
    "\n",
    "Now, we implement our HappyModel():"
   ]
  },
  {
   "cell_type": "code",
   "execution_count": 3,
   "metadata": {},
   "outputs": [],
   "source": [
    "def HappyModel(input_shape):\n",
    "    \"\"\"\n",
    "    Implementation of the HappyModel.\n",
    "    \n",
    "    Arguments:\n",
    "    input_shape -- shape of the images of the dataset\n",
    "\n",
    "    Returns:\n",
    "    model -- a Model() instance in Keras\n",
    "    \"\"\" \n",
    "\n",
    "    # Define the input placeholder as a tensor with shape input_shape. We can think of this as our input image!   \n",
    "    X_input = Input(input_shape)\n",
    "\n",
    "    # Zero-padding: pads the border of X_input with zeroes\n",
    "    X = ZeroPadding2D((3,3))(X_input)\n",
    "\n",
    "    # CONV -> BN -> RELU Block applied to X \n",
    "    X = Conv2D(32, (7,7), strides = (1,1), name = 'conv0')(X)\n",
    "    X = BatchNormalization(axis = 3, name = 'bn0')(X)\n",
    "    X = Activation('relu')(X)\n",
    "\n",
    "    # Max pooling\n",
    "    X = MaxPooling2D((2,2), name = 'max_pool')(X)\n",
    "\n",
    "    # Flatten X (means convert it to a vector) + FullyConnected\n",
    "    X = Flatten()(X)\n",
    "    X = Dense(1, activation = 'sigmoid', name = 'fc')(X)\n",
    "\n",
    "    # Create model. This creates our Keras model instance. We will use this instance to train/test the model.\n",
    "    model = Model(inputs = X_input, outputs = X, name = 'HappyModel')\n",
    "    \n",
    "    return model"
   ]
  },
  {
   "cell_type": "markdown",
   "metadata": {},
   "source": [
    "We have now built a function to describe our model. To train and test this model, there are four steps in Keras:\n",
    "\n",
    "- Create the model by calling the function above\n",
    "- Compile the model by calling model.compile(optimizer = \"...\", loss = \"...\", metrics = [\"accuracy\"])\n",
    "- Train the model on train data by calling model.fit(x = ..., y = ..., epochs = ..., batch_size = ...)\n",
    "- Test the model on test data by calling model.evaluate(x = ..., y = ...)\n",
    "\n",
    "First, we create the model"
   ]
  },
  {
   "cell_type": "code",
   "execution_count": 4,
   "metadata": {},
   "outputs": [],
   "source": [
    "happyModel = HappyModel((64,64,3))"
   ]
  },
  {
   "cell_type": "markdown",
   "metadata": {},
   "source": [
    "Next, we compile the model to configure the learning process"
   ]
  },
  {
   "cell_type": "code",
   "execution_count": 5,
   "metadata": {},
   "outputs": [],
   "source": [
    "happyModel.compile(optimizer = 'Adam', loss = 'binary_crossentropy', metrics = ['accuracy'])"
   ]
  },
  {
   "cell_type": "markdown",
   "metadata": {},
   "source": [
    "Next, we train the model"
   ]
  },
  {
   "cell_type": "code",
   "execution_count": 6,
   "metadata": {},
   "outputs": [
    {
     "name": "stdout",
     "output_type": "stream",
     "text": [
      "Epoch 1/40\n",
      "600/600 [==============================] - 3s - loss: 0.5434 - acc: 0.7883     \n",
      "Epoch 2/40\n",
      "600/600 [==============================] - 3s - loss: 0.2014 - acc: 0.9233     \n",
      "Epoch 3/40\n",
      "600/600 [==============================] - 3s - loss: 0.1257 - acc: 0.9550     \n",
      "Epoch 4/40\n",
      "600/600 [==============================] - 4s - loss: 0.1316 - acc: 0.9500     \n",
      "Epoch 5/40\n",
      "600/600 [==============================] - 4s - loss: 0.1200 - acc: 0.9650     \n",
      "Epoch 6/40\n",
      "600/600 [==============================] - 4s - loss: 0.0849 - acc: 0.9783     \n",
      "Epoch 7/40\n",
      "600/600 [==============================] - 4s - loss: 0.1088 - acc: 0.9533     \n",
      "Epoch 8/40\n",
      "600/600 [==============================] - 4s - loss: 0.1064 - acc: 0.9700     \n",
      "Epoch 9/40\n",
      "600/600 [==============================] - 4s - loss: 0.2231 - acc: 0.9200     \n",
      "Epoch 10/40\n",
      "600/600 [==============================] - 4s - loss: 0.1078 - acc: 0.9717     \n",
      "Epoch 11/40\n",
      "600/600 [==============================] - 4s - loss: 0.0659 - acc: 0.9767     \n",
      "Epoch 12/40\n",
      "600/600 [==============================] - 4s - loss: 0.0369 - acc: 0.9867     \n",
      "Epoch 13/40\n",
      "600/600 [==============================] - 4s - loss: 0.0933 - acc: 0.9700     \n",
      "Epoch 14/40\n",
      "600/600 [==============================] - 4s - loss: 0.0690 - acc: 0.9717     \n",
      "Epoch 15/40\n",
      "600/600 [==============================] - 5s - loss: 0.0738 - acc: 0.9683     \n",
      "Epoch 16/40\n",
      "600/600 [==============================] - 5s - loss: 0.2139 - acc: 0.9350     \n",
      "Epoch 17/40\n",
      "600/600 [==============================] - 4s - loss: 0.0716 - acc: 0.9733     \n",
      "Epoch 18/40\n",
      "600/600 [==============================] - 4s - loss: 0.0269 - acc: 0.9867     \n",
      "Epoch 19/40\n",
      "600/600 [==============================] - 4s - loss: 0.0986 - acc: 0.9750     \n",
      "Epoch 20/40\n",
      "600/600 [==============================] - 4s - loss: 0.2137 - acc: 0.9433     \n",
      "Epoch 21/40\n",
      "600/600 [==============================] - 4s - loss: 0.1142 - acc: 0.9733     \n",
      "Epoch 22/40\n",
      "600/600 [==============================] - 4s - loss: 0.0815 - acc: 0.9817     \n",
      "Epoch 23/40\n",
      "600/600 [==============================] - 4s - loss: 0.0559 - acc: 0.9833     \n",
      "Epoch 24/40\n",
      "600/600 [==============================] - 4s - loss: 0.1032 - acc: 0.9650     \n",
      "Epoch 25/40\n",
      "600/600 [==============================] - 4s - loss: 0.0758 - acc: 0.9800     \n",
      "Epoch 26/40\n",
      "600/600 [==============================] - 4s - loss: 0.0287 - acc: 0.9950     \n",
      "Epoch 27/40\n",
      "600/600 [==============================] - 4s - loss: 0.0512 - acc: 0.9817     \n",
      "Epoch 28/40\n",
      "600/600 [==============================] - 4s - loss: 0.1654 - acc: 0.9467     \n",
      "Epoch 29/40\n",
      "600/600 [==============================] - 4s - loss: 0.0796 - acc: 0.9667     \n",
      "Epoch 30/40\n",
      "600/600 [==============================] - 4s - loss: 0.0622 - acc: 0.9800     \n",
      "Epoch 31/40\n",
      "600/600 [==============================] - 5s - loss: 0.0409 - acc: 0.9833     \n",
      "Epoch 32/40\n",
      "600/600 [==============================] - 6s - loss: 0.0559 - acc: 0.9833     \n",
      "Epoch 33/40\n",
      "600/600 [==============================] - 7s - loss: 0.0409 - acc: 0.9900     \n",
      "Epoch 34/40\n",
      "600/600 [==============================] - 7s - loss: 0.0401 - acc: 0.9933     \n",
      "Epoch 35/40\n",
      "600/600 [==============================] - 5s - loss: 0.0562 - acc: 0.9867     \n",
      "Epoch 36/40\n",
      "600/600 [==============================] - 5s - loss: 0.0267 - acc: 0.9917     \n",
      "Epoch 37/40\n",
      "600/600 [==============================] - 4s - loss: 0.0617 - acc: 0.9900     \n",
      "Epoch 38/40\n",
      "600/600 [==============================] - 5s - loss: 0.0250 - acc: 0.9967     \n",
      "Epoch 39/40\n",
      "600/600 [==============================] - 4s - loss: 0.0303 - acc: 0.9917     \n",
      "Epoch 40/40\n",
      "600/600 [==============================] - 5s - loss: 0.0150 - acc: 0.9933     \n"
     ]
    },
    {
     "data": {
      "text/plain": [
       "<keras.callbacks.History at 0xb2a4e1ef0>"
      ]
     },
     "execution_count": 6,
     "metadata": {},
     "output_type": "execute_result"
    }
   ],
   "source": [
    "happyModel.fit(x = X_train, y = Y_train, epochs = 40, batch_size = 16)"
   ]
  },
  {
   "cell_type": "markdown",
   "metadata": {},
   "source": [
    "Note : If we run fit() again, the model will continue to train with the parameters it has already learnt instead of reinitializing them.\n",
    "\n",
    "Finally, we test/evaluate the model."
   ]
  },
  {
   "cell_type": "code",
   "execution_count": 7,
   "metadata": {
    "scrolled": true
   },
   "outputs": [
    {
     "name": "stdout",
     "output_type": "stream",
     "text": [
      "150/150 [==============================] - 0s     \n",
      "\n",
      "Loss = 0.10824216902256012\n",
      "Test Accuracy = 0.9599999976158142\n"
     ]
    }
   ],
   "source": [
    "preds = happyModel.evaluate(x = X_test, y = Y_test)\n",
    "print()\n",
    "print (\"Loss = \" + str(preds[0]))\n",
    "print (\"Test Accuracy = \" + str(preds[1]))"
   ]
  },
  {
   "cell_type": "markdown",
   "metadata": {},
   "source": [
    "## Other useful functions in Keras\n",
    "\n",
    "Two other basic features of Keras that are quite useful are:\n",
    "\n",
    "- model.summary() : prints the details of layers in a table with the sizes of its inputs/outputs\n",
    "- plot_model() : plots the graph in a nice layout. We can even save it as \".png\" using SVG(). It is saved in \"File\" then \"Open...\" in the upper bar of the notebook."
   ]
  },
  {
   "cell_type": "code",
   "execution_count": 8,
   "metadata": {
    "scrolled": false
   },
   "outputs": [
    {
     "name": "stdout",
     "output_type": "stream",
     "text": [
      "_________________________________________________________________\n",
      "Layer (type)                 Output Shape              Param #   \n",
      "=================================================================\n",
      "input_1 (InputLayer)         (None, 64, 64, 3)         0         \n",
      "_________________________________________________________________\n",
      "zero_padding2d_1 (ZeroPaddin (None, 70, 70, 3)         0         \n",
      "_________________________________________________________________\n",
      "conv0 (Conv2D)               (None, 64, 64, 32)        4736      \n",
      "_________________________________________________________________\n",
      "bn0 (BatchNormalization)     (None, 64, 64, 32)        128       \n",
      "_________________________________________________________________\n",
      "activation_1 (Activation)    (None, 64, 64, 32)        0         \n",
      "_________________________________________________________________\n",
      "max_pool (MaxPooling2D)      (None, 32, 32, 32)        0         \n",
      "_________________________________________________________________\n",
      "flatten_1 (Flatten)          (None, 32768)             0         \n",
      "_________________________________________________________________\n",
      "fc (Dense)                   (None, 1)                 32769     \n",
      "=================================================================\n",
      "Total params: 37,633.0\n",
      "Trainable params: 37,569.0\n",
      "Non-trainable params: 64.0\n",
      "_________________________________________________________________\n"
     ]
    }
   ],
   "source": [
    "happyModel.summary()"
   ]
  },
  {
   "cell_type": "code",
   "execution_count": 9,
   "metadata": {},
   "outputs": [
    {
     "ename": "AttributeError",
     "evalue": "module 'pydot' has no attribute 'find_graphviz'",
     "output_type": "error",
     "traceback": [
      "\u001b[0;31m---------------------------------------------------------------------------\u001b[0m",
      "\u001b[0;31mAttributeError\u001b[0m                            Traceback (most recent call last)",
      "\u001b[0;32m<ipython-input-9-94e567feb269>\u001b[0m in \u001b[0;36m<module>\u001b[0;34m\u001b[0m\n\u001b[0;32m----> 1\u001b[0;31m \u001b[0mplot_model\u001b[0m\u001b[0;34m(\u001b[0m\u001b[0mhappyModel\u001b[0m\u001b[0;34m,\u001b[0m \u001b[0mto_file\u001b[0m\u001b[0;34m=\u001b[0m\u001b[0;34m'HappyModel.png'\u001b[0m\u001b[0;34m)\u001b[0m\u001b[0;34m\u001b[0m\u001b[0;34m\u001b[0m\u001b[0m\n\u001b[0m\u001b[1;32m      2\u001b[0m \u001b[0mSVG\u001b[0m\u001b[0;34m(\u001b[0m\u001b[0mmodel_to_dot\u001b[0m\u001b[0;34m(\u001b[0m\u001b[0mhappyModel\u001b[0m\u001b[0;34m)\u001b[0m\u001b[0;34m.\u001b[0m\u001b[0mcreate\u001b[0m\u001b[0;34m(\u001b[0m\u001b[0mprog\u001b[0m\u001b[0;34m=\u001b[0m\u001b[0;34m'dot'\u001b[0m\u001b[0;34m,\u001b[0m \u001b[0mformat\u001b[0m\u001b[0;34m=\u001b[0m\u001b[0;34m'svg'\u001b[0m\u001b[0;34m)\u001b[0m\u001b[0;34m)\u001b[0m\u001b[0;34m\u001b[0m\u001b[0;34m\u001b[0m\u001b[0m\n",
      "\u001b[0;32m/anaconda3/lib/python3.6/site-packages/keras/utils/vis_utils.py\u001b[0m in \u001b[0;36mplot_model\u001b[0;34m(model, to_file, show_shapes, show_layer_names)\u001b[0m\n\u001b[1;32m     98\u001b[0m                \u001b[0mshow_shapes\u001b[0m\u001b[0;34m=\u001b[0m\u001b[0;32mFalse\u001b[0m\u001b[0;34m,\u001b[0m\u001b[0;34m\u001b[0m\u001b[0;34m\u001b[0m\u001b[0m\n\u001b[1;32m     99\u001b[0m                show_layer_names=True):\n\u001b[0;32m--> 100\u001b[0;31m     \u001b[0mdot\u001b[0m \u001b[0;34m=\u001b[0m \u001b[0mmodel_to_dot\u001b[0m\u001b[0;34m(\u001b[0m\u001b[0mmodel\u001b[0m\u001b[0;34m,\u001b[0m \u001b[0mshow_shapes\u001b[0m\u001b[0;34m,\u001b[0m \u001b[0mshow_layer_names\u001b[0m\u001b[0;34m)\u001b[0m\u001b[0;34m\u001b[0m\u001b[0;34m\u001b[0m\u001b[0m\n\u001b[0m\u001b[1;32m    101\u001b[0m     \u001b[0m_\u001b[0m\u001b[0;34m,\u001b[0m \u001b[0mextension\u001b[0m \u001b[0;34m=\u001b[0m \u001b[0mos\u001b[0m\u001b[0;34m.\u001b[0m\u001b[0mpath\u001b[0m\u001b[0;34m.\u001b[0m\u001b[0msplitext\u001b[0m\u001b[0;34m(\u001b[0m\u001b[0mto_file\u001b[0m\u001b[0;34m)\u001b[0m\u001b[0;34m\u001b[0m\u001b[0;34m\u001b[0m\u001b[0m\n\u001b[1;32m    102\u001b[0m     \u001b[0;32mif\u001b[0m \u001b[0;32mnot\u001b[0m \u001b[0mextension\u001b[0m\u001b[0;34m:\u001b[0m\u001b[0;34m\u001b[0m\u001b[0;34m\u001b[0m\u001b[0m\n",
      "\u001b[0;32m/anaconda3/lib/python3.6/site-packages/keras/utils/vis_utils.py\u001b[0m in \u001b[0;36mmodel_to_dot\u001b[0;34m(model, show_shapes, show_layer_names)\u001b[0m\n\u001b[1;32m     33\u001b[0m     \u001b[0;32mfrom\u001b[0m \u001b[0;34m.\u001b[0m\u001b[0;34m.\u001b[0m\u001b[0mmodels\u001b[0m \u001b[0;32mimport\u001b[0m \u001b[0mSequential\u001b[0m\u001b[0;34m\u001b[0m\u001b[0;34m\u001b[0m\u001b[0m\n\u001b[1;32m     34\u001b[0m \u001b[0;34m\u001b[0m\u001b[0m\n\u001b[0;32m---> 35\u001b[0;31m     \u001b[0m_check_pydot\u001b[0m\u001b[0;34m(\u001b[0m\u001b[0;34m)\u001b[0m\u001b[0;34m\u001b[0m\u001b[0;34m\u001b[0m\u001b[0m\n\u001b[0m\u001b[1;32m     36\u001b[0m     \u001b[0mdot\u001b[0m \u001b[0;34m=\u001b[0m \u001b[0mpydot\u001b[0m\u001b[0;34m.\u001b[0m\u001b[0mDot\u001b[0m\u001b[0;34m(\u001b[0m\u001b[0;34m)\u001b[0m\u001b[0;34m\u001b[0m\u001b[0;34m\u001b[0m\u001b[0m\n\u001b[1;32m     37\u001b[0m     \u001b[0mdot\u001b[0m\u001b[0;34m.\u001b[0m\u001b[0mset\u001b[0m\u001b[0;34m(\u001b[0m\u001b[0;34m'rankdir'\u001b[0m\u001b[0;34m,\u001b[0m \u001b[0;34m'TB'\u001b[0m\u001b[0;34m)\u001b[0m\u001b[0;34m\u001b[0m\u001b[0;34m\u001b[0m\u001b[0m\n",
      "\u001b[0;32m/anaconda3/lib/python3.6/site-packages/keras/utils/vis_utils.py\u001b[0m in \u001b[0;36m_check_pydot\u001b[0;34m()\u001b[0m\n\u001b[1;32m     14\u001b[0m \u001b[0;34m\u001b[0m\u001b[0m\n\u001b[1;32m     15\u001b[0m \u001b[0;32mdef\u001b[0m \u001b[0m_check_pydot\u001b[0m\u001b[0;34m(\u001b[0m\u001b[0;34m)\u001b[0m\u001b[0;34m:\u001b[0m\u001b[0;34m\u001b[0m\u001b[0;34m\u001b[0m\u001b[0m\n\u001b[0;32m---> 16\u001b[0;31m     \u001b[0;32mif\u001b[0m \u001b[0;32mnot\u001b[0m \u001b[0;34m(\u001b[0m\u001b[0mpydot\u001b[0m \u001b[0;32mand\u001b[0m \u001b[0mpydot\u001b[0m\u001b[0;34m.\u001b[0m\u001b[0mfind_graphviz\u001b[0m\u001b[0;34m(\u001b[0m\u001b[0;34m)\u001b[0m\u001b[0;34m)\u001b[0m\u001b[0;34m:\u001b[0m\u001b[0;34m\u001b[0m\u001b[0;34m\u001b[0m\u001b[0m\n\u001b[0m\u001b[1;32m     17\u001b[0m         raise ImportError('Failed to import pydot. You must install pydot'\n\u001b[1;32m     18\u001b[0m                           ' and graphviz for `pydotprint` to work.')\n",
      "\u001b[0;31mAttributeError\u001b[0m: module 'pydot' has no attribute 'find_graphviz'"
     ]
    }
   ],
   "source": [
    "plot_model(happyModel, to_file='HappyModel.png')\n",
    "SVG(model_to_dot(happyModel).create(prog='dot', format='svg'))"
   ]
  },
  {
   "cell_type": "code",
   "execution_count": null,
   "metadata": {},
   "outputs": [],
   "source": []
  }
 ],
 "metadata": {
  "kernelspec": {
   "display_name": "Python 3",
   "language": "python",
   "name": "python3"
  },
  "language_info": {
   "codemirror_mode": {
    "name": "ipython",
    "version": 3
   },
   "file_extension": ".py",
   "mimetype": "text/x-python",
   "name": "python",
   "nbconvert_exporter": "python",
   "pygments_lexer": "ipython3",
   "version": "3.6.8"
  }
 },
 "nbformat": 4,
 "nbformat_minor": 2
}
